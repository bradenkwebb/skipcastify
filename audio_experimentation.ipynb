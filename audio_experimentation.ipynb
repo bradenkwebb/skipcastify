{
 "cells": [
  {
   "cell_type": "code",
   "execution_count": 2,
   "metadata": {},
   "outputs": [],
   "source": [
    "import requests\n",
    "import librosa\n",
    "from pydub import AudioSegment\n",
    "from pydub.playback import play\n",
    "import sys\n",
    "from skipcastify.rss_parser import fetch_podcast_updates\n",
    "channel_url = \"https://lexfridman.com/feed/podcast/\"\n",
    "\n",
    "import logging\n",
    "\n",
    "l = logging.getLogger(\"pydub.converter\")\n",
    "l.setLevel(logging.DEBUG)\n",
    "l.addHandler(logging.StreamHandler())"
   ]
  },
  {
   "cell_type": "code",
   "execution_count": 3,
   "metadata": {},
   "outputs": [
    {
     "name": "stdout",
     "output_type": "stream",
     "text": [
      "No updates found for  Lex Fridman Podcast\n",
      "https://media.blubrry.com/takeituneasy/content.blubrry.com/takeituneasy/lex_ai_dana_white.mp3\n"
     ]
    }
   ],
   "source": [
    "feed = fetch_podcast_updates(channel_url)\n",
    "url = feed.entries[0]['links'][1]['href']\n",
    "print(url)"
   ]
  },
  {
   "cell_type": "code",
   "execution_count": 4,
   "metadata": {},
   "outputs": [
    {
     "name": "stdout",
     "output_type": "stream",
     "text": [
      "Content is a 68 MB audio/mpeg file\n",
      "Last modified Mon, 25 Mar 2024 15:34:44 GMT\n"
     ]
    }
   ],
   "source": [
    "response = requests.get(url)\n",
    "print(\"Content is a\", str(int(response.headers.get('Content-Length')) // 1024 // 1024), \"MB\", response.headers.get('Content-Type'), 'file')\n",
    "print(\"Last modified\", response.headers['Last-Modified'])"
   ]
  },
  {
   "cell_type": "code",
   "execution_count": 5,
   "metadata": {},
   "outputs": [],
   "source": [
    "with open('temp.mp3', 'wb') as f:\n",
    "    f.write(response.content)\n",
    "aud = AudioSegment.from_mp3('temp.mp3')"
   ]
  },
  {
   "cell_type": "code",
   "execution_count": 6,
   "metadata": {},
   "outputs": [],
   "source": [
    "f_10_sec = aud[:19 * 1000]"
   ]
  },
  {
   "cell_type": "code",
   "execution_count": 7,
   "metadata": {},
   "outputs": [
    {
     "ename": "",
     "evalue": "",
     "output_type": "error",
     "traceback": [
      "\u001b[1;31mThe Kernel crashed while executing code in the current cell or a previous cell. \n",
      "\u001b[1;31mPlease review the code in the cell(s) to identify a possible cause of the failure. \n",
      "\u001b[1;31mClick <a href='https://aka.ms/vscodeJupyterKernelCrash'>here</a> for more info. \n",
      "\u001b[1;31mView Jupyter <a href='command:jupyter.viewOutput'>log</a> for further details."
     ]
    }
   ],
   "source": [
    "play(f_10_sec)"
   ]
  },
  {
   "cell_type": "code",
   "execution_count": 5,
   "metadata": {},
   "outputs": [],
   "source": [
    "# pydub does things in milliseconds\n",
    "first_10_min = aud[:10*60*1000]"
   ]
  },
  {
   "cell_type": "code",
   "execution_count": 12,
   "metadata": {},
   "outputs": [
    {
     "data": {
      "text/plain": [
       "48000"
      ]
     },
     "execution_count": 12,
     "metadata": {},
     "output_type": "execute_result"
    }
   ],
   "source": [
    "aud.frame_rate"
   ]
  },
  {
   "cell_type": "code",
   "execution_count": 10,
   "metadata": {},
   "outputs": [
    {
     "data": {
      "text/plain": [
       "5762.736"
      ]
     },
     "execution_count": 10,
     "metadata": {},
     "output_type": "execute_result"
    }
   ],
   "source": [
    "aud.duration_seconds"
   ]
  }
 ],
 "metadata": {
  "kernelspec": {
   "display_name": ".venv",
   "language": "python",
   "name": "python3"
  },
  "language_info": {
   "codemirror_mode": {
    "name": "ipython",
    "version": 3
   },
   "file_extension": ".py",
   "mimetype": "text/x-python",
   "name": "python",
   "nbconvert_exporter": "python",
   "pygments_lexer": "ipython3",
   "version": "3.12.2"
  }
 },
 "nbformat": 4,
 "nbformat_minor": 2
}
